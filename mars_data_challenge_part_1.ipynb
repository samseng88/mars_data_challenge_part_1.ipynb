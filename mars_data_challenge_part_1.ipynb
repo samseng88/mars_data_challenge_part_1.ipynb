{
 "cells": [
  {
   "cell_type": "code",
   "execution_count": null,
   "metadata": {},
   "outputs": [],
   "source": [
    "from splinter import Browser\n",
    "from bs4 import BeautifulSoup\n",
    "from webdriver_manager.chrome import ChromeDriverManager\n",
    "import requests\n",
    "import pymongo"
   ]
  },
  {
   "cell_type": "code",
   "execution_count": null,
   "metadata": {},
   "outputs": [],
   "source": [
    "#Connect Python to MongoDB\n",
    "conn = 'mongodb://localhost:27017'\n",
    "client = pymongo.MongoClient(conn)"
   ]
  },
  {
   "cell_type": "code",
   "execution_count": null,
   "metadata": {},
   "outputs": [],
   "source": [
    "# Define the 'marsDB' database in Mongo\n",
    "db = client.MarsDB\n",
    "\n",
    "# Declare the collection\n",
    "mars_stuff = db.marsstuff"
   ]
  },
  {
   "cell_type": "code",
   "execution_count": null,
   "metadata": {},
   "outputs": [],
   "source": [
    "# set up path\n",
    "executable_path = {'executable_path': ChromeDriverManager().install()}\n",
    "browser = Browser('chrome', **executable_path, headless=False)\n",
    "\n",
    "# Set up url\n",
    "mars_url = \"https://redplanetscience.com/\"\n",
    "browser.visit(mars_url)"
   ]
  },
  {
   "cell_type": "code",
   "execution_count": null,
   "metadata": {},
   "outputs": [],
   "source": [
    "# Retrieve page with the requests module\n",
    "response = requests.get(mars_url)\n",
    "mars_html = browser.html\n",
    "\n",
    "# Create Beautiful Soup object\n",
    "mars_soup = BeautifulSoup(response.text, \"html.parser\")\n",
    "mars_soup"
   ]
  },
  {
   "cell_type": "code",
   "execution_count": null,
   "metadata": {},
   "outputs": [],
   "source": [
    "# articles = mars_soup.find_all('div', class_='list_text')\n",
    "\n",
    "# #Loop through results\n",
    "# for results in articles:\n",
    "   \n",
    "#       title = mars_soup.find('div', class_='content_title').text\n",
    "#       preview = mars_soup.find('div', class_='article_teaser_body').text\n",
    "\n",
    "#       if (title and preview):\n",
    "#          print('------------------------')\n",
    "#          print(title)\n",
    "#          print(preview)\n"
   ]
  },
  {
   "cell_type": "code",
   "execution_count": null,
   "metadata": {},
   "outputs": [],
   "source": [
    "# Examine the results, then determine element that contains sought info\n",
    "# results are returned as an iterable list\n",
    "results = mars_soup.find_all('div', class_='list_text')\n",
    "\n",
    "# Loop through returned results\n",
    "for result in results:\n",
    "    # Error handling\n",
    "    try:\n",
    "        # Identify and return title of articles\n",
    "        title = mars_soup.find_all('div', class_='content_title').text\n",
    "        # Identify and return preview of articles\n",
    "        preview = mars_soup.find_all('div', class_='article_teaser_body').text\n",
    "\n",
    "        # Run only if title, price, and link are available\n",
    "        if (title and preview):\n",
    "            # Print results\n",
    "            print('--------------------')\n",
    "            print(title)\n",
    "            print(preview)\n",
    "\n",
    "            # Dictionary to be inserted as a MongoDB document\n",
    "            post = {\n",
    "                'title': title,\n",
    "                'preview': preview,\n",
    "            }\n",
    "\n",
    "            mars_stuff.insert_one(post)\n",
    "\n",
    "    except Exception as e:\n",
    "        print(e)"
   ]
  },
  {
   "cell_type": "code",
   "execution_count": null,
   "metadata": {},
   "outputs": [],
   "source": [
    "# Display items in MongoDB collection\n",
    "# mars_stuff = db.items.find()\n",
    "\n",
    "# for listing in listings:\n",
    "#     print(listing)"
   ]
  },
  {
   "cell_type": "code",
   "execution_count": null,
   "metadata": {},
   "outputs": [],
   "source": [
    "#Quit browser after scraping\n",
    "browser.quit()"
   ]
  }
 ],
 "metadata": {
  "kernelspec": {
   "display_name": "Python 3.9.12 ('base')",
   "language": "python",
   "name": "python3"
  },
  "language_info": {
   "codemirror_mode": {
    "name": "ipython",
    "version": 3
   },
   "file_extension": ".py",
   "mimetype": "text/x-python",
   "name": "python",
   "nbconvert_exporter": "python",
   "pygments_lexer": "ipython3",
   "version": "3.9.12"
  },
  "orig_nbformat": 4,
  "vscode": {
   "interpreter": {
    "hash": "8e0360c4ed26948718f807543792babe073cfa91cf6f30cc2ef0a783d6f93278"
   }
  }
 },
 "nbformat": 4,
 "nbformat_minor": 2
}
